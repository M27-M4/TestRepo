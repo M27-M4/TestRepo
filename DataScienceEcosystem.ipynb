{
 "cells": [
  {
   "cell_type": "code",
   "execution_count": null,
   "id": "9f563831-5114-4077-808d-695b77f567ab",
   "metadata": {},
   "outputs": [],
   "source": []
  },
  {
   "cell_type": "markdown",
   "id": "1764e06d-2df9-450b-8236-ad9cac940995",
   "metadata": {},
   "source": [
    "Data Science Tools and Ecosystem"
   ]
  },
  {
   "cell_type": "markdown",
   "id": "e9228748-ad0f-49d0-9f28-7a46630f4462",
   "metadata": {},
   "source": [
    "In this notebook, Data Science Tools and Ecosystem are summarized."
   ]
  },
  {
   "cell_type": "markdown",
   "id": "d4e0702e-a52a-481e-9100-e481757f1923",
   "metadata": {},
   "source": [
    "some of the popular languages that Data Scientists use are:\n",
    "\n",
    "1. Python  \n",
    "2. R  \n",
    "3. SQL  \n",
    "4. Julia *(optional, add more if you like)*"
   ]
  },
  {
   "cell_type": "markdown",
   "id": "d91a061a-bc3e-4c2b-9dac-110b9df47ce7",
   "metadata": {},
   "source": [
    "Some of the commonly used libraries used by Data Scientists include:\n",
    "\n",
    "1. Pandas  \n",
    "2. NumPy  \n",
    "3. Matplotlib  \n",
    "4. Scikit-learn *(optional addition)*"
   ]
  },
  {
   "cell_type": "markdown",
   "id": "ce4203ab-16d6-42cf-8013-c2c6e79c0571",
   "metadata": {},
   "source": [
    "| Data Science Tools       |\n",
    "|--------------------------|\n",
    "| Jupyter Notebook         |\n",
    "| RStudio                  |\n",
    "| Apache Zeppelin          |\n"
   ]
  },
  {
   "cell_type": "markdown",
   "id": "06953ad1-102b-4751-bdae-a1eae319d29f",
   "metadata": {},
   "source": [
    "### Below are a few examples of evaluating arithmetic expressions in Python."
   ]
  },
  {
   "cell_type": "code",
   "execution_count": 1,
   "id": "8399e92c-875c-4ccb-b619-d6ee20658e5a",
   "metadata": {},
   "outputs": [
    {
     "data": {
      "text/plain": [
       "17"
      ]
     },
     "execution_count": 1,
     "metadata": {},
     "output_type": "execute_result"
    }
   ],
   "source": [
    "# This is a simple arithmetic expression to multiply then add integers\n",
    "(3 * 4) + 5"
   ]
  },
  {
   "cell_type": "code",
   "execution_count": 2,
   "id": "5cef0ecf-e3c4-4d85-891b-e709aaf9f813",
   "metadata": {},
   "outputs": [
    {
     "data": {
      "text/plain": [
       "3.3333333333333335"
      ]
     },
     "execution_count": 2,
     "metadata": {},
     "output_type": "execute_result"
    }
   ],
   "source": [
    "200 / 60"
   ]
  },
  {
   "cell_type": "markdown",
   "id": "ca2ebf9b-b40d-49b2-a7b4-2b7492858149",
   "metadata": {},
   "source": [
    "**Objectives:**\n",
    "\n",
    "- List popular languages for Data Science  \n",
    "- Identify commonly used Data Science libraries  \n",
    "- Introduce open-source development tools used in Data Science  \n",
    "- Demonstrate basic arithmetic expressions in Python  \n",
    "- Convert minutes to hours using Python code"
   ]
  },
  {
   "cell_type": "markdown",
   "id": "adac3de9-19ed-4f12-846f-a07159211c00",
   "metadata": {},
   "source": [
    "## Author\n",
    "\n",
    "Mounika Palavalasa\n"
   ]
  },
  {
   "cell_type": "code",
   "execution_count": null,
   "id": "bf42fafc-6104-4b11-bca5-a2d5318d8e11",
   "metadata": {},
   "outputs": [],
   "source": []
  }
 ],
 "metadata": {
  "kernelspec": {
   "display_name": "Python 3 (ipykernel)",
   "language": "python",
   "name": "python3"
  },
  "language_info": {
   "codemirror_mode": {
    "name": "ipython",
    "version": 3
   },
   "file_extension": ".py",
   "mimetype": "text/x-python",
   "name": "python",
   "nbconvert_exporter": "python",
   "pygments_lexer": "ipython3",
   "version": "3.12.8"
  }
 },
 "nbformat": 4,
 "nbformat_minor": 5
}
